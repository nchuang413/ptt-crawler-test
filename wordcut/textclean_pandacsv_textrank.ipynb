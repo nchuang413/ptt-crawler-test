{
 "cells": [
  {
   "cell_type": "code",
   "execution_count": 2,
   "metadata": {},
   "outputs": [
    {
     "name": "stderr",
     "output_type": "stream",
     "text": [
      "Building prefix dict from C:\\Users\\PerryHuang\\Desktop\\ptt\\dict_tw.txt ...\n",
      "Loading model from cache C:\\Users\\PERRYH~1\\AppData\\Local\\Temp\\jieba.u940f4c10a72f86656076dd26324b7f00.cache\n",
      "Loading model cost 1.308 seconds.\n",
      "Prefix dict has been built succesfully.\n"
     ]
    }
   ],
   "source": [
    "#TextRank analysis\n",
    "#loading data from csv to dateframe_pandas and use jieba function (add for loop)\n",
    "#result export as tuple\n",
    "\n",
    "import os\n",
    "import sys\n",
    "import jieba\n",
    "import csv\n",
    "import pandas as pd # 引用套件並縮寫為 pd  \n",
    "\n",
    "from jieba.analyse import *\n",
    "\n",
    "filename='test.csv'\n",
    "datapath = os.getcwd() + '\\\\'+ filename\n",
    "outputpath = os.getcwd() + '\\\\'+ 'output_textrank.csv'\n",
    "setdictpath = os.getcwd() + '\\\\'+ 'dict_tw.txt'\n",
    "userdictpath  = os.getcwd() + '\\\\'+ 'Custom_dict_utf8.txt'\n",
    "stopword_path= os.getcwd() + '\\\\'+ 'stopword_tw.txt'\n",
    "\n",
    "#dictionary path assign\n",
    "jieba.set_dictionary(setdictpath)\n",
    "#jieba.load_userdict(userdictpath) \n",
    "jieba.analyse.set_stop_words(stopword_path)\n",
    "\n",
    "def textrank_analysis_weigth(word):\n",
    "    keyword_list_tf=[]\n",
    "    for keyword, weight in textrank(''.join(word.split()), withWeight=True):\n",
    "        #for keyword, weight in textrang(word, withWeight=True):\n",
    "        keyword_list_tf.append(tuple((keyword, weight)))\n",
    "        #print('%s %s' % (keyword, weight))\n",
    "    return keyword_list_tf\n",
    "\n",
    "def textrank_analysis(word):\n",
    "    keyword_list_tf=[]\n",
    "    for keyword in textrank(''.join(word.split()), withWeight=False):\n",
    "        #for keyword, weight in textrang(word, withWeight=False):\n",
    "        keyword_list_tf.append(keyword)\n",
    "        #print('%s (keyword))\n",
    "    return keyword_list_tf\n",
    "\n",
    "df = pd.read_csv(datapath ,encoding='UTF-8')\n",
    "row_amount = 10\n",
    "test = df.head(row_amount)\n",
    "\n",
    "summary_lists=[]\n",
    "\n",
    "for i in range(0,10):\n",
    "    summary_list= (test.iloc[i,0],textrank_analysis(test.iloc[i,1]))\n",
    "    summary_lists.append(summary_list)\n",
    "    \n",
    "with open(outputpath, 'w', encoding='UTF-8') as myfile:\n",
    "    wr = csv.writer(myfile, quoting=csv.QUOTE_ALL)\n",
    "    wr.writerow(summary_lists)"
   ]
  },
  {
   "cell_type": "code",
   "execution_count": null,
   "metadata": {
    "collapsed": true
   },
   "outputs": [],
   "source": []
  }
 ],
 "metadata": {
  "kernelspec": {
   "display_name": "Python 3",
   "language": "python",
   "name": "python3"
  },
  "language_info": {
   "codemirror_mode": {
    "name": "ipython",
    "version": 3
   },
   "file_extension": ".py",
   "mimetype": "text/x-python",
   "name": "python",
   "nbconvert_exporter": "python",
   "pygments_lexer": "ipython3",
   "version": "3.6.3"
  }
 },
 "nbformat": 4,
 "nbformat_minor": 2
}
